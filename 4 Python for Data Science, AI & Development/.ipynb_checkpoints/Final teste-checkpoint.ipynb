{
 "cells": [
  {
   "cell_type": "code",
   "execution_count": 1,
   "id": "a2e91ebe-2e47-4b18-8e47-2eac189af53c",
   "metadata": {},
   "outputs": [
    {
     "name": "stdout",
     "output_type": "stream",
     "text": [
      "Li\n"
     ]
    }
   ],
   "source": [
    "name = 'Lizz'\n",
    "print(name[0:2])"
   ]
  },
  {
   "cell_type": "code",
   "execution_count": 3,
   "id": "4408eb2d-dfed-42a6-8bcb-d5f7931ab9b4",
   "metadata": {},
   "outputs": [
    {
     "name": "stdout",
     "output_type": "stream",
     "text": [
      "0246\n"
     ]
    }
   ],
   "source": [
    "var = '01234567'\n",
    "\n",
    "print(var[::2]) "
   ]
  },
  {
   "cell_type": "code",
   "execution_count": 5,
   "id": "a92ee67d-2d01-427a-8eec-4b51d02c1deb",
   "metadata": {},
   "outputs": [
    {
     "data": {
      "text/plain": [
       "0"
      ]
     },
     "execution_count": 5,
     "metadata": {},
     "output_type": "execute_result"
    }
   ],
   "source": [
    "Name='EMILY'\n",
    "\n",
    "Name.find(\"E\")"
   ]
  },
  {
   "cell_type": "code",
   "execution_count": 6,
   "id": "97f83141-2f4c-4d64-bbe4-2621631da866",
   "metadata": {},
   "outputs": [
    {
     "ename": "NameError",
     "evalue": "name 'A' is not defined",
     "output_type": "error",
     "traceback": [
      "\u001b[1;31m---------------------------------------------------------------------------\u001b[0m",
      "\u001b[1;31mNameError\u001b[0m                                 Traceback (most recent call last)",
      "\u001b[1;32m~\\AppData\\Local\\Temp/ipykernel_10516/2871870387.py\u001b[0m in \u001b[0;36m<module>\u001b[1;34m\u001b[0m\n\u001b[1;32m----> 1\u001b[1;33m \u001b[0ma\u001b[0m\u001b[1;33m=\u001b[0m\u001b[0mset\u001b[0m\u001b[1;33m(\u001b[0m\u001b[0mA\u001b[0m\u001b[1;33m)\u001b[0m\u001b[1;33m\u001b[0m\u001b[1;33m\u001b[0m\u001b[0m\n\u001b[0m\u001b[0;32m      2\u001b[0m \u001b[0ma\u001b[0m\u001b[1;33m\u001b[0m\u001b[1;33m\u001b[0m\u001b[0m\n",
      "\u001b[1;31mNameError\u001b[0m: name 'A' is not defined"
     ]
    }
   ],
   "source": [
    "a=set(A) \n",
    "a"
   ]
  },
  {
   "cell_type": "code",
   "execution_count": 12,
   "id": "50f5279b-a1b8-432b-8cef-379bba34093b",
   "metadata": {},
   "outputs": [
    {
     "name": "stdout",
     "output_type": "stream",
     "text": [
      "Hi\n",
      "Mike\n"
     ]
    }
   ],
   "source": [
    " x='7'\n",
    "    \n",
    "if(x!=1): \n",
    "    print('Hi') \n",
    "else: \n",
    "    print('Hello') \n",
    "print('Mike') "
   ]
  },
  {
   "cell_type": "code",
   "execution_count": 13,
   "id": "ecab9414-fdcb-4475-8ff8-7a4b79532dd3",
   "metadata": {},
   "outputs": [
    {
     "data": {
      "text/plain": [
       "4"
      ]
     },
     "execution_count": 13,
     "metadata": {},
     "output_type": "execute_result"
    }
   ],
   "source": [
    "def add(x): \n",
    "    return(x+x) \n",
    "\n",
    "add(2) "
   ]
  },
  {
   "cell_type": "code",
   "execution_count": 15,
   "id": "b4c45877-bfad-4b3e-b13a-e6031b27c44a",
   "metadata": {},
   "outputs": [
    {
     "name": "stdout",
     "output_type": "stream",
     "text": [
      "3\n",
      "6\n",
      "9\n"
     ]
    }
   ],
   "source": [
    "A=[1,2,3] \n",
    "for a in A: \n",
    "    print(3*a) "
   ]
  },
  {
   "cell_type": "code",
   "execution_count": 16,
   "id": "afc74848-eaaf-456f-86ac-bd8bfa79b00a",
   "metadata": {},
   "outputs": [
    {
     "name": "stdout",
     "output_type": "stream",
     "text": [
      "2\n",
      "3\n",
      "4\n"
     ]
    }
   ],
   "source": [
    "for i in range(1,5):\n",
    "    if (i!=1): print(i)"
   ]
  },
  {
   "cell_type": "code",
   "execution_count": 18,
   "id": "9871b2ad-265c-4d02-b5a7-0de6ce9e1913",
   "metadata": {},
   "outputs": [],
   "source": [
    "class Rectangle(object): \n",
    "    def __init__(self,width=2,height =3,color='r'): \n",
    "        self.height=height \n",
    "        self.width=width \n",
    "        self.color=color \n",
    "        \n",
    "    def drawRectangle(self): \n",
    "        import matplotlib.pyplot as plt \n",
    "        plt.gca().add_patch(plt.Rectangle((0, 0),self.width, self.height ,fc=self.color)) \n",
    "        plt.axis('scaled') \n",
    "        plt.show() "
   ]
  },
  {
   "cell_type": "code",
   "execution_count": 20,
   "id": "c81d1958-df8b-47c4-bce9-f42e691f0540",
   "metadata": {},
   "outputs": [
    {
     "data": {
      "text/plain": [
       "array([0, 0, 0, 0, 0])"
      ]
     },
     "execution_count": 20,
     "metadata": {},
     "output_type": "execute_result"
    }
   ],
   "source": [
    "import numpy as np\n",
    "a=np.array([0,1,0,1,0]) \n",
    "b=np.array([1,0,1,0,1]) \n",
    "a*b "
   ]
  },
  {
   "cell_type": "code",
   "execution_count": 21,
   "id": "5da140b5-88ef-4f45-b4e9-690f68fd2eca",
   "metadata": {},
   "outputs": [
    {
     "data": {
      "text/plain": [
       "array([11, 11, 11, 11, 11])"
      ]
     },
     "execution_count": 21,
     "metadata": {},
     "output_type": "execute_result"
    }
   ],
   "source": [
    "a=np.array([1,1,1,1,1]) \n",
    "a+10"
   ]
  },
  {
   "cell_type": "code",
   "execution_count": 22,
   "id": "f5f050b2-c4b9-4985-81f7-d50c96f23a99",
   "metadata": {},
   "outputs": [
    {
     "ename": "NameError",
     "evalue": "name 'df' is not defined",
     "output_type": "error",
     "traceback": [
      "\u001b[1;31m---------------------------------------------------------------------------\u001b[0m",
      "\u001b[1;31mNameError\u001b[0m                                 Traceback (most recent call last)",
      "\u001b[1;32m~\\AppData\\Local\\Temp/ipykernel_10516/3929593097.py\u001b[0m in \u001b[0;36m<module>\u001b[1;34m\u001b[0m\n\u001b[0;32m      1\u001b[0m \u001b[1;32mimport\u001b[0m \u001b[0mpandas\u001b[0m \u001b[1;32mas\u001b[0m \u001b[0mpd\u001b[0m\u001b[1;33m\u001b[0m\u001b[1;33m\u001b[0m\u001b[0m\n\u001b[0;32m      2\u001b[0m \u001b[1;33m\u001b[0m\u001b[0m\n\u001b[1;32m----> 3\u001b[1;33m \u001b[0my\u001b[0m\u001b[1;33m=\u001b[0m\u001b[0mdf\u001b[0m\u001b[1;33m[\u001b[0m\u001b[1;33m[\u001b[0m\u001b[1;34m'Artist'\u001b[0m\u001b[1;33m,\u001b[0m\u001b[1;34m'Length'\u001b[0m\u001b[1;33m,\u001b[0m\u001b[1;34m'Genre'\u001b[0m\u001b[1;33m]\u001b[0m\u001b[1;33m]\u001b[0m\u001b[1;33m\u001b[0m\u001b[1;33m\u001b[0m\u001b[0m\n\u001b[0m\u001b[0;32m      4\u001b[0m \u001b[0my\u001b[0m\u001b[1;33m\u001b[0m\u001b[1;33m\u001b[0m\u001b[0m\n",
      "\u001b[1;31mNameError\u001b[0m: name 'df' is not defined"
     ]
    }
   ],
   "source": [
    "import pandas as pd\n",
    "\n",
    "y=df[['Artist','Length','Genre']]\n",
    "y"
   ]
  },
  {
   "cell_type": "code",
   "execution_count": null,
   "id": "22c60ffc-243c-4114-8aae-48246d082124",
   "metadata": {},
   "outputs": [],
   "source": []
  }
 ],
 "metadata": {
  "kernelspec": {
   "display_name": "Python 3 (ipykernel)",
   "language": "python",
   "name": "python3"
  },
  "language_info": {
   "codemirror_mode": {
    "name": "ipython",
    "version": 3
   },
   "file_extension": ".py",
   "mimetype": "text/x-python",
   "name": "python",
   "nbconvert_exporter": "python",
   "pygments_lexer": "ipython3",
   "version": "3.9.7"
  }
 },
 "nbformat": 4,
 "nbformat_minor": 5
}
